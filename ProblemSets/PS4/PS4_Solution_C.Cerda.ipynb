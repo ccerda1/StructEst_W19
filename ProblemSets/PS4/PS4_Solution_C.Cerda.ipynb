{
 "cells": [
  {
   "cell_type": "markdown",
   "metadata": {},
   "source": [
    "# Problem Set 4\n",
    "\n",
    "### Cristobal Cerda M.\n",
    "\n",
    "Estimating the Brock and Mirman (1972) model by SMM "
   ]
  },
  {
   "cell_type": "code",
   "execution_count": 3,
   "metadata": {},
   "outputs": [],
   "source": [
    "import numpy as np\n",
    "import numpy.linalg as lin\n",
    "import scipy.stats as sts\n",
    "import scipy.optimize as opt\n",
    "import pylab as pl\n",
    "import seaborn as sns\n",
    "import pandas as pd\n",
    "from pandas import DataFrame, Series\n",
    "import heapq\n",
    "import os\n",
    "import csv\n",
    "import re\n",
    "import math as math\n"
   ]
  },
  {
   "cell_type": "markdown",
   "metadata": {},
   "source": [
    "1. In the next sections I will take the data from the file, generate 1000 simulations of random numbers (following a Uniform (0,1) distribution. 100 values per simulation) and define the function \"normal_draws\" that generate Normally distributed numbers (N($\\mu$, $\\sigma$))."
   ]
  },
  {
   "cell_type": "code",
   "execution_count": 4,
   "metadata": {},
   "outputs": [],
   "source": [
    "os.getcwd()\n",
    "\n",
    "os.path.exists(\"data\")\n",
    "filestream2 = open(\"data/NewMacroSeries.txt\", \"r\")\n",
    "\n",
    "ct=[]\n",
    "kt=[]\n",
    "wt=[]\n",
    "rt=[]\n",
    "yt=[]\n",
    "\n",
    "for line in filestream2:\n",
    "    c, k, w, r, y = map(float,line.split(','))\n",
    "    ct.append(c)\n",
    "    kt.append(k)\n",
    "    wt.append(w)\n",
    "    rt.append(r)\n",
    "    yt.append(y)\n",
    "    \n",
    "Ct=np.asarray(ct)\n",
    "Kt=np.asarray(kt)\n",
    "Wt=np.asarray(wt)\n",
    "Rt=np.asarray(rt)\n",
    "Yt=np.asarray(yt)"
   ]
  },
  {
   "cell_type": "code",
   "execution_count": 5,
   "metadata": {},
   "outputs": [],
   "source": [
    "# Creating uniform draws\n",
    "\n",
    "data_rows = 100\n",
    "sim_columns = 1000\n",
    "np.random.seed(1979)\n",
    "uniform_mat = sts.uniform.rvs(0, 1, size=(data_rows, sim_columns))\n",
    "#print(np.ndim(uniform_mat), uniform_mat.shape)"
   ]
  },
  {
   "cell_type": "code",
   "execution_count": 6,
   "metadata": {},
   "outputs": [],
   "source": [
    "# Defining normal draws for error term\n",
    "\n",
    "def normal_draws(unif_draws, mu, sigma):\n",
    "    normal_draws = sts.norm.ppf(unif_draws, loc=mu, scale=sigma)\n",
    "    return normal_draws"
   ]
  },
  {
   "cell_type": "markdown",
   "metadata": {},
   "source": [
    "2. The next cell includes the equations of Brock & Mirman stated in the Problem Set. Each equation is developed in order to generate a simulation of one of the macroeconomic variables. "
   ]
  },
  {
   "cell_type": "code",
   "execution_count": 7,
   "metadata": {},
   "outputs": [],
   "source": [
    "# Equations of Brock & Mirman\n",
    "\n",
    "def eq5(draws, ro, mu, sigma):\n",
    "    err_draws = normal_draws(draws, 0.0, sigma)\n",
    "    sim_z=np.zeros(err_draws.shape)\n",
    "    i=0\n",
    "    for i in range(err_draws.shape[0]):\n",
    "        if i==0:\n",
    "            sim_z[i,:] = err_draws[i,:]+ro*mu+(1-ro)*mu\n",
    "        else:\n",
    "            vec1 =sim_z[i-1,:]*ro\n",
    "            vec2 = err_draws[i,:]+(1-ro)*mu\n",
    "            sim_z[i,:]= vec1+vec2\n",
    "    return sim_z\n",
    "\n",
    "#print(eq5(uniform_mat,0.5,7.0,1.0)[:,599])\n",
    "\n",
    "def eq7(k, draws, ro, mu, sigma, alpha, beta):\n",
    "    err_draws = normal_draws(draws, 0.0, sigma)\n",
    "    k1=k.mean()\n",
    "    sim_k=np.zeros(err_draws.shape)\n",
    "    i=0\n",
    "    for i in range(err_draws.shape[0]):\n",
    "        if i==0:\n",
    "            sim_k[0,:] = k1\n",
    "        else:\n",
    "            vec1 = alpha*beta*np.exp(eq5(draws, ro, mu, sigma)[i,:])\n",
    "            sim_k[i,:]=vec1*sim_k[i-1,:]**alpha\n",
    "    return sim_k\n",
    "    \n",
    "#print(eq7(Kt,uniform_mat,0.5,7.0, 0.5, 0.5, 0.99)[:,599])\n",
    "\n",
    "def eq3(k, draws, ro, mu, sigma, alpha, beta):\n",
    "    err_draws = normal_draws(draws, 0.0, sigma)\n",
    "    z_sim = eq5(draws, ro, mu, sigma)\n",
    "    k_sim = eq7(k, draws, ro, mu, sigma, alpha, beta)\n",
    "    sim_w=np.zeros(err_draws.shape)\n",
    "    i=0\n",
    "    for i in range(err_draws.shape[0]):\n",
    "        vec1 = (1-alpha)*np.exp(z_sim[i,:])\n",
    "        sim_w[i,:] = vec1*(k_sim[i,:]**alpha)\n",
    "    return sim_w\n",
    "\n",
    "#print(eq3(Kt,uniform_mat,0.5,7.0, 1.0, 0.1, 0.99))\n",
    "\n",
    "def eq4(k, draws, ro, mu, sigma, alpha, beta):\n",
    "    err_draws = normal_draws(draws, 0.0, sigma)\n",
    "    z_sim = eq5(draws, ro, mu, sigma)\n",
    "    k_sim = eq7(k, draws, ro, mu, sigma, alpha, beta)\n",
    "    sim_r=np.zeros(err_draws.shape)\n",
    "    i=0\n",
    "    for i in range(err_draws.shape[0]):\n",
    "                      vec1 = alpha*np.exp(z_sim[i,:])\n",
    "                      sim_r[i,:] = vec1*(k_sim[i,:]**(alpha-1))\n",
    "    return sim_r\n",
    "\n",
    "#print(eq4(Kt,uniform_mat,0.5,7.0, 1.0, 0.1, 0.99))\n",
    "\n",
    "def eq2(k, draws, ro, mu, sigma, alpha, beta):\n",
    "    err_draws = normal_draws(draws, 0.0, sigma)\n",
    "    z_sim = eq5(draws, ro, mu, sigma)\n",
    "    k_sim = eq7(k, draws, ro, mu, sigma, alpha, beta)\n",
    "    r_sim = eq4(k, draws, ro, mu, sigma, alpha, beta)\n",
    "    w_sim = eq3(k, draws, ro, mu, sigma, alpha, beta)\n",
    "    sim_c=np.zeros(err_draws.shape)\n",
    "    i=0\n",
    "    for i in range(err_draws.shape[0]):\n",
    "        if i == err_draws.shape[0]-1:\n",
    "            sim_c[i,:] = [x*y+z for x,y,z in zip(r_sim[i,:],k_sim[i,:],w_sim[i,:])]\n",
    "        else:\n",
    "            sim_c[i,:] = [x*y+z-v for x,y,z,v in zip(r_sim[i,:],k_sim[i,:],w_sim[i,:],k_sim[i+1,:])]\n",
    "    return sim_c\n",
    "\n",
    "#print(eq2(Kt,normal_draws(uniform_mat, 1, 1),0.5,1, 0.5, 0.99))\n",
    "\n",
    "def eq6(k, draws, ro, mu, sigma, alpha, beta):\n",
    "    err_draws = normal_draws(draws, 0.0, sigma)\n",
    "    z_sim = eq5(draws, ro, mu, sigma)\n",
    "    k_sim = eq7(k, draws, ro, mu, sigma, alpha, beta)\n",
    "    sim_y=np.zeros(err_draws.shape)\n",
    "    i=0\n",
    "    for i in range(err_draws.shape[0]):\n",
    "        sim_y[i,:] = [np.exp(x)*y**alpha for x,y in zip(z_sim[i,:],k_sim[i,:])]\n",
    "    return sim_y\n",
    "\n",
    "#print(eq6(Kt,normal_draws(uniform_mat, 1, 1),0.5,1, 0.5, 0.99))"
   ]
  },
  {
   "cell_type": "markdown",
   "metadata": {},
   "source": [
    "### Part (a)"
   ]
  },
  {
   "cell_type": "markdown",
   "metadata": {},
   "source": [
    "(a.1.) The functions \"datamoments\" and \"modelmoments\" generate the 6 models required in the Problem Set. both functions return a vector of the moments generated. In the case of the moments of the model, each moment is calculated for each simulation, then the 1,000 simulations of each moment are averaged."
   ]
  },
  {
   "cell_type": "code",
   "execution_count": 8,
   "metadata": {},
   "outputs": [],
   "source": [
    "# 6 moments: mean(ct), mean(kt), mean(ct/yt), var(yt), corr(ct,ct−1), corr(ct,kt)\n",
    "\n",
    "def datamoments(variables):\n",
    "    c, k, w, r, y = variables\n",
    "    datamom = [0]*6 # hay un problema cuando es un array de 1D\n",
    "    i=0\n",
    "    c_t_1 = []\n",
    "    for i in range(len(c)):\n",
    "        if i==0:\n",
    "            c_t_1.append(0)\n",
    "        else:\n",
    "            c_t_1.append(c[i-1])    \n",
    "    c_t_1 = np.asarray(c_t_1)\n",
    "    vec_xy = np.asarray([x/j for x,j in zip(c,y)])\n",
    "    datamom[0] = c.mean()\n",
    "    datamom[1] = k.mean()\n",
    "    datamom[2] = vec_xy.mean()\n",
    "    datamom[3] = y.var()\n",
    "    datamom[5] = np.corrcoef(c[:], k[:])[0,1]\n",
    "    datamom[4] = np.corrcoef(c[:], c_t_1[:])[0,1]\n",
    "    return datamom\n",
    "#print(datamoments(Ct, Kt, Wt, Rt, Yt))\n",
    "\n",
    "def modelmoments(k, draws, params):\n",
    "    ro, mu, sigma, alpha, beta = params\n",
    "    c_sim = eq2(k, draws, ro, mu, sigma, alpha, beta)\n",
    "    k_sim = eq7(k, draws, ro, mu, sigma, alpha, beta)\n",
    "    w_sim = eq3(k, draws, ro, mu, sigma, alpha, beta)\n",
    "    r_sim = eq4(k, draws, ro, mu, sigma, alpha, beta)\n",
    "    y_sim = eq6(k, draws, ro, mu, sigma, alpha, beta)\n",
    "    \n",
    "    c_mean = c_sim.mean(axis=0)\n",
    "    k_mean = k_sim.mean(axis=0)\n",
    "    w_mean = w_sim.mean(axis=0)\n",
    "    r_mean = r_sim.mean(axis=0)\n",
    "    y_mean = y_sim.mean(axis=0)\n",
    "    y_var = y_sim.var(axis=0)\n",
    "\n",
    "    c_mean_2 = c_mean.mean()\n",
    "    k_mean_2 = k_mean.mean()\n",
    "    \n",
    "    vec_xy = np.asarray(c_sim/y_sim)\n",
    "    cy_mean = vec_xy.mean()\n",
    "    y_var = y_var.mean()\n",
    "    corr_c_k = []\n",
    "    corr_c_c = []\n",
    "    j=0\n",
    "    c_t1 = np.zeros(c_sim.shape)\n",
    "    for j in range(c_sim.shape[0]):\n",
    "        if j==0:\n",
    "            c_t1[j,:]=0\n",
    "        else:\n",
    "            c_t1[j,:]=c_sim[j-1,:]\n",
    "\n",
    "    i=0\n",
    "    for i in range(c_sim.shape[1]):\n",
    "        corr_c_k.append(np.corrcoef(c_sim[:,i], k_sim[:,i])[0,1])\n",
    "        corr_c_c.append(np.corrcoef(c_sim[:,i], c_t1[:,i])[0,1])\n",
    "    corr_c_k = np.asarray(corr_c_k)\n",
    "    corr_c_c = np.asarray(corr_c_c)\n",
    "    corr_ck_mean=corr_c_k.mean()\n",
    "    corr_cc_mean=corr_c_c.mean()\n",
    "    \n",
    "    modelmom = [0]*6\n",
    "    modelmom[0] = c_mean_2\n",
    "    modelmom[1] = k_mean_2\n",
    "    modelmom[2] = cy_mean\n",
    "    modelmom[3] = y_var\n",
    "    modelmom[4] = corr_cc_mean\n",
    "    modelmom[5] = corr_ck_mean\n",
    "    return modelmom\n",
    "\n",
    "#print(modelmoments(Kt,normal_draws(uniform_mat, 1, 1),0.5,1, 0.5, 0.99))"
   ]
  },
  {
   "cell_type": "markdown",
   "metadata": {},
   "source": [
    "(a.2) In the next three cells I define the error vector, the criterion function and generate the minimization process."
   ]
  },
  {
   "cell_type": "code",
   "execution_count": 9,
   "metadata": {},
   "outputs": [],
   "source": [
    "def errorvec(data_vars, draws, params, simple):\n",
    "    c, k, w, r, y = data_vars\n",
    "    if simple:\n",
    "        error_vec = [x-y for x,y in zip(modelmoments(k, draws, params),datamoments(data_vars))]\n",
    "    else:\n",
    "        error_vec = [(x-y)/y for x,y in zip(modelmoments(k, draws, params),datamoments(data_vars))]\n",
    "    \n",
    "    return error_vec"
   ]
  },
  {
   "cell_type": "code",
   "execution_count": 10,
   "metadata": {},
   "outputs": [],
   "source": [
    "def criterion(params, *args):\n",
    "    ro, mu, sigma, alpha = params\n",
    "    beta, draws, c, k, w, r, y, W_hat = args\n",
    "    data_vars = np.array([c, k, w, r, y])\n",
    "    params2=np.array([ro, mu, sigma, alpha, beta])\n",
    "    error_vec = np.asarray(errorvec(data_vars, draws, params2, simple = False))\n",
    "    crit_value = error_vec.T@W_hat@error_vec\n",
    "    return crit_value"
   ]
  },
  {
   "cell_type": "code",
   "execution_count": 11,
   "metadata": {},
   "outputs": [
    {
     "name": "stderr",
     "output_type": "stream",
     "text": [
      "C:\\Users\\Daniela\\Anaconda3\\lib\\site-packages\\scipy\\optimize\\optimize.py:663: RuntimeWarning: invalid value encountered in double_scalars\n",
      "  grad[k] = (f(*((xk + d,) + args)) - f0) / d[k]\n"
     ]
    },
    {
     "name": "stdout",
     "output_type": "stream",
     "text": [
      "0.9656119642981951 6.839278773910416 0.01976221196967079 0.6007960073525342\n",
      "      fun: 1.4021643729831261\n",
      " hess_inv: <4x4 LbfgsInvHessProduct with dtype=float64>\n",
      "      jac: array([ -7.29877296,  -1.84620463, -50.31180792, -29.09769807])\n",
      "  message: b'CONVERGENCE: REL_REDUCTION_OF_F_<=_FACTR*EPSMCH'\n",
      "     nfev: 60\n",
      "      nit: 5\n",
      "   status: 0\n",
      "  success: True\n",
      "        x: array([0.96561196, 6.83927877, 0.01976221, 0.60079601])\n"
     ]
    }
   ],
   "source": [
    "ro = -0.5\n",
    "mu = 7.0\n",
    "alpha = 0.4\n",
    "beta = 0.99\n",
    "sigma = 0.7\n",
    "params = np.array([ro, mu, sigma, alpha])\n",
    "W_hat = np.eye(6)\n",
    "draws = uniform_mat\n",
    "args_smm = (beta, draws, Ct, Kt, Wt, Rt, Yt, W_hat)\n",
    "result_smm = opt.minimize(criterion, params, args=(args_smm), method='L-BFGS-B', \\\n",
    "            bounds=((-0.99, 0.99), (5.0, 14.0), (0.01, 1.1), (0.01, 0.99)), tol = 1e-5)\n",
    "ro_SMM, mu_SMM, sigma_SMM, alpha_SMM = result_smm.x\n",
    "print(ro_SMM, mu_SMM, sigma_SMM, alpha_SMM)\n",
    "print(result_smm)"
   ]
  },
  {
   "cell_type": "markdown",
   "metadata": {},
   "source": [
    "The solution of the minimization problem returns the following estimated parameters:\n",
    "\n",
    "$\\hat{\\rho}$ = 0.95612\n",
    "\n",
    "$\\hat{\\mu}$ = 6.83928\n",
    "\n",
    "$\\hat{\\sigma}$ = 0.01976\n",
    "\n",
    "$\\hat{\\alpha}$ = 0.60079"
   ]
  },
  {
   "cell_type": "markdown",
   "metadata": {},
   "source": [
    "(a.3) The next cells include the definition of the Jacobian Matrix of the derivatives of the error vectors w.r.t each estimated parameters, in the way it is calculated in the SMM Notebook. With that I calculate the Variance-Covariance Matrix using as the weighting matrix the Identity Matrix. "
   ]
  },
  {
   "cell_type": "code",
   "execution_count": 12,
   "metadata": {},
   "outputs": [],
   "source": [
    "# Jacobian matrix of errors\n",
    "\n",
    "def Jacobian_err(params1, params2, simple):\n",
    "    ro, mu, sigma, alpha, beta = params1\n",
    "    draws, c, k, w, r, y = params2\n",
    "    data_vars = (Ct, Kt, Wt, Rt, Yt)\n",
    "    pars = np.array([ro, mu, sigma, alpha, beta])\n",
    "    datamom = np.asarray(datamoments(data_vars))\n",
    "    modelmom = np.asarray(modelmoments(k, draws, pars))\n",
    "    jac_mat = np.zeros((len(datamom),len(pars)))\n",
    "    i=0\n",
    "    epsilon=1e-5\n",
    "    epsilon_vec = np.asarray([0.0]*len(pars))\n",
    "    for i in range(jac_mat.shape[1]):\n",
    "        epsilon_vec[i] = epsilon\n",
    "        jac_mat[:,i] = (np.array(errorvec(data_vars, draws, (pars+epsilon_vec), simple)) \\\n",
    "                        -np.array(errorvec(data_vars, draws, (pars-epsilon_vec), simple)))/(2*epsilon)\n",
    "        epsilon_vec[i] = 0\n",
    "    return jac_mat\n"
   ]
  },
  {
   "cell_type": "code",
   "execution_count": 13,
   "metadata": {},
   "outputs": [
    {
     "name": "stdout",
     "output_type": "stream",
     "text": [
      "[[ 2.53084574e-01  1.40237702e+00  9.54972292e-01  2.22776983e+01\n",
      "   2.20983257e-02]\n",
      " [ 5.08071296e-01  2.80343048e+00  1.85290083e+00  4.91251759e+01\n",
      "   2.83174796e+00]\n",
      " [-5.58232044e-05  8.32667268e-12 -1.92854783e-02 -1.67797889e+00\n",
      "  -1.01830608e+00]\n",
      " [ 1.70576012e+00  5.35614274e-01  1.09118100e+01  9.52292394e+00\n",
      "   3.34229581e-01]\n",
      " [ 3.09003054e+00  5.15164325e-01  2.08918006e+01  8.89127517e+00\n",
      "  -2.48968253e-01]\n",
      " [ 2.21090258e+00  3.49878848e-02  1.86316672e+01 -2.74564060e-02\n",
      "  -8.41215629e-01]]\n"
     ]
    }
   ],
   "source": [
    "ro = ro_SMM\n",
    "mu = mu_SMM\n",
    "sigma = sigma_SMM\n",
    "alpha = alpha_SMM\n",
    "beta = 0.99\n",
    "draws = uniform_mat\n",
    "params1 = np.array([ro, mu, sigma, alpha, beta])\n",
    "params2 = (draws, Ct, Kt, Wt, Rt, Yt)\n",
    "simple = False\n",
    "mat=Jacobian_err(params1, params2, simple)\n",
    "#print(err1)\n",
    "#print(err2)\n",
    "#print(params1+epsilon_vec)\n",
    "print(mat)\n",
    "#print(modelmom)\n",
    "#print(Jacobian_err(params1, params2, False))"
   ]
  },
  {
   "cell_type": "code",
   "execution_count": 14,
   "metadata": {},
   "outputs": [],
   "source": [
    "S = uniform_mat.shape[1]\n",
    "ro = ro_SMM\n",
    "mu = mu_SMM\n",
    "sigma = sigma_SMM\n",
    "alpha = alpha_SMM\n",
    "beta = 0.99\n",
    "draws = uniform_mat\n",
    "params1 = np.array([ro, mu, sigma, alpha, beta])\n",
    "params2 = (draws, Ct, Kt, Wt, Rt, Yt)\n",
    "simple = False\n",
    "der_err = Jacobian_err(params1, params2, simple)\n",
    "W_hat=np.eye(der_err.T.shape[1], der_err.T.shape[1])\n",
    "#print(der_err.shape)\n",
    "Var_est = (1/S)*lin.inv(der_err.T@W_hat@der_err)\n",
    "ro_hat_sd = Var_est[0,0]\n",
    "mu_hat_sd = Var_est[1,1]\n",
    "sigma_hat_sd = Var_est[2,2]\n",
    "alpha_hat_sd = Var_est[3,3]"
   ]
  },
  {
   "cell_type": "code",
   "execution_count": 15,
   "metadata": {},
   "outputs": [
    {
     "name": "stdout",
     "output_type": "stream",
     "text": [
      "0.013802208216486431 20.304418319602977 0.0001175877654884174 0.08130456415572089\n"
     ]
    }
   ],
   "source": [
    "print(ro_hat_sd, mu_hat_sd, sigma_hat_sd, alpha_hat_sd)"
   ]
  },
  {
   "cell_type": "markdown",
   "metadata": {},
   "source": [
    "The standard deviation of the estimated parameters are the following:\n",
    "\n",
    "$\\hat{\\rho}_{SD}$ = 0.01380\n",
    "\n",
    "$\\hat{\\mu}_{SD}$ = 20.30441\n",
    "\n",
    "$\\hat{\\sigma}_{SD}$ = 0.00012\n",
    "\n",
    "$\\hat{\\alpha}_{SD}$ = 0.08130"
   ]
  },
  {
   "cell_type": "markdown",
   "metadata": {},
   "source": [
    "## Part (b)"
   ]
  },
  {
   "cell_type": "markdown",
   "metadata": {},
   "source": [
    "(b.1) In this section I am required to perform the estimation using the two-step estimator for the optimal weighting matrix. For that purpose, in the next cells I define the function \"modelmoments\" (it calculates the moments for each simulation, without averaging across simulations), the error matrix, and calculate the two-step weighting matrix."
   ]
  },
  {
   "cell_type": "code",
   "execution_count": 16,
   "metadata": {},
   "outputs": [],
   "source": [
    "# 6 moments: mean(ct), mean(kt), mean(ct/yt), var(yt), corr(ct,ct−1), corr(ct,kt)\n",
    "\n",
    "def modelmoments2(k, draws, params):\n",
    "    ro, mu, sigma, alpha, beta = params\n",
    "    c_sim = eq2(k, draws, ro, mu, sigma, alpha, beta)\n",
    "    k_sim = eq7(k, draws, ro, mu, sigma, alpha, beta)\n",
    "    w_sim = eq3(k, draws, ro, mu, sigma, alpha, beta)\n",
    "    r_sim = eq4(k, draws, ro, mu, sigma, alpha, beta)\n",
    "    y_sim = eq6(k, draws, ro, mu, sigma, alpha, beta)\n",
    "    \n",
    "    c_mean = c_sim.mean(axis=0)\n",
    "    k_mean = k_sim.mean(axis=0)\n",
    "    w_mean = w_sim.mean(axis=0)\n",
    "    r_mean = r_sim.mean(axis=0)\n",
    "    y_mean = y_sim.mean(axis=0)\n",
    "    y_var = y_sim.var(axis=0)\n",
    "\n",
    "    cy_mean = c_mean/y_mean\n",
    "\n",
    "    corr_c_k = []\n",
    "    corr_c_c = []\n",
    "    j=0\n",
    "    c_t1 = np.zeros(c_sim.shape)\n",
    "    for j in range(c_sim.shape[0]):\n",
    "        if j==0:\n",
    "            c_t1[j,:]=0\n",
    "        else:\n",
    "            c_t1[j,:]=c_sim[j-1,:]\n",
    "\n",
    "    i=0\n",
    "    for i in range(c_sim.shape[1]):\n",
    "        corr_c_k.append(np.corrcoef(c_sim[:,i], k_sim[:,i])[0,1])\n",
    "        corr_c_c.append(np.corrcoef(c_sim[:,i], c_t1[:,i])[0,1])\n",
    "    corr_c_k = np.asarray(corr_c_k)\n",
    "    corr_c_c = np.asarray(corr_c_c)\n",
    "    model_mom_mat = np.zeros((6, draws.shape[1]))\n",
    "\n",
    "    model_mom_mat[0,:] = c_mean\n",
    "    model_mom_mat[1,:] = k_mean\n",
    "    model_mom_mat[2,:] = cy_mean\n",
    "    model_mom_mat[3,:] = y_var\n",
    "    model_mom_mat[4,:] = corr_c_c\n",
    "    model_mom_mat[5,:] = corr_c_k\n",
    "    \n",
    "    return model_mom_mat"
   ]
  },
  {
   "cell_type": "code",
   "execution_count": 17,
   "metadata": {},
   "outputs": [],
   "source": [
    "def error_mat(data_vars, draws, params, simple):\n",
    "    c, k, w, r, y = data_vars\n",
    "    datamom2 = np.asarray(datamoments(data_vars))\n",
    "    modelmom2 = np.asarray(modelmoments2(k, draws, params))\n",
    "    error_mat = np.zeros(modelmom2.shape)\n",
    "    i=0\n",
    "    j=0\n",
    "    if simple:\n",
    "        for i in range(draws.shape[1]):\n",
    "            error_mat[:,i] = modelmom2[:,i] - datamom2.T\n",
    "    else:\n",
    "        for j in range(draws.shape[1]):\n",
    "            error_mat[:,j] = (modelmom2[:,j] - datamom2.T) / datamom2.T\n",
    "    return error_mat"
   ]
  },
  {
   "cell_type": "code",
   "execution_count": 18,
   "metadata": {},
   "outputs": [
    {
     "name": "stdout",
     "output_type": "stream",
     "text": [
      "[[ 6.93927227e+06 -3.47855991e+06 -1.18552871e+07  3.97973541e+03\n",
      "  -1.01051100e+04  1.36579862e+04]\n",
      " [-3.47855991e+06  1.74387980e+06  5.94324718e+06 -2.10199079e+03\n",
      "   4.90837045e+03 -6.58977520e+03]\n",
      " [-1.18552871e+07  5.94324718e+06  2.02579725e+07 -8.29495625e+03\n",
      "   1.74372535e+04 -2.28946773e+04]\n",
      " [ 3.97973541e+03 -2.10199079e+03 -8.29495625e+03  5.86381653e+02\n",
      "  -1.42714389e+02 -1.05960876e+02]\n",
      " [-1.01051100e+04  4.90837045e+03  1.74372535e+04 -1.42714389e+02\n",
      "   7.23236584e+02 -8.96108978e+02]\n",
      " [ 1.36579862e+04 -6.58977520e+03 -2.28946773e+04 -1.05960876e+02\n",
      "  -8.96108978e+02  1.33573758e+03]]\n"
     ]
    }
   ],
   "source": [
    "ro = ro_SMM\n",
    "mu = mu_SMM\n",
    "sigma = sigma_SMM\n",
    "alpha = alpha_SMM\n",
    "beta = 0.99\n",
    "draws = uniform_mat\n",
    "S = draws.shape[1]\n",
    "params1 = np.array([ro, mu, sigma, alpha, beta])\n",
    "variables = (Ct, Kt, Wt, Rt, Yt)\n",
    "error_m = error_mat(variables, draws, params1, False)\n",
    "m2 = (1/S)*error_m@error_m.T\n",
    "W_h2s = lin.pinv(m2)\n",
    "print(W_h2s)"
   ]
  },
  {
   "cell_type": "markdown",
   "metadata": {},
   "source": [
    "As in part (a), with the calculated weighting matrix, I run the minimization function, using the criterion function previously defined. "
   ]
  },
  {
   "cell_type": "code",
   "execution_count": 19,
   "metadata": {},
   "outputs": [
    {
     "name": "stdout",
     "output_type": "stream",
     "text": [
      "0.9726313826509255 6.860664948994933 0.019193704697386283 0.5995337835582838\n",
      "      fun: 0.9933286063605973\n",
      " hess_inv: <4x4 LbfgsInvHessProduct with dtype=float64>\n",
      "      jac: array([ 0.04105349,  0.00683165, -0.44658242, -3.06029833])\n",
      "  message: b'CONVERGENCE: REL_REDUCTION_OF_F_<=_FACTR*EPSMCH'\n",
      "     nfev: 105\n",
      "      nit: 15\n",
      "   status: 0\n",
      "  success: True\n",
      "        x: array([0.97263138, 6.86066495, 0.0191937 , 0.59953378])\n"
     ]
    }
   ],
   "source": [
    "ro = ro_SMM\n",
    "mu = mu_SMM\n",
    "sigma = sigma_SMM\n",
    "alpha = alpha_SMM\n",
    "beta = 0.99\n",
    "params = np.array([ro, mu, sigma, alpha])\n",
    "W_hat = W_h2s\n",
    "draws = uniform_mat\n",
    "args_smm = (beta, draws, Ct, Kt, Wt, Rt, Yt, W_hat)\n",
    "result_smm = opt.minimize(criterion, params, args=(args_smm), method='L-BFGS-B', \\\n",
    "                          bounds=((-0.99, 0.99), (5.0, 14.0), (0.01, 0.99), (0.01, 1.1)), tol=1e-4)\n",
    "ro_SMM_2, mu_SMM_2, sigma_SMM_2, alpha_SMM_2 = result_smm.x\n",
    "print(ro_SMM_2, mu_SMM_2, sigma_SMM_2, alpha_SMM_2)\n",
    "print(result_smm)"
   ]
  },
  {
   "cell_type": "markdown",
   "metadata": {},
   "source": [
    "In this case (two-step weighting matrix), the solution of the minimization problem returns the following estimated parameters (rounded to the 5th decimal):\n",
    "\n",
    "$\\hat{\\rho}$ = 0.97263\n",
    "\n",
    "$\\hat{\\mu}$ = 6.8607\n",
    "\n",
    "$\\hat{\\sigma}$ = 0.01919\n",
    "\n",
    "$\\hat{\\alpha}$ = 0.59953\n",
    "\n",
    "As we can see, the values of the estimated parameters do not change much regarding the previous case, neither the value of the objective function . In the next cells I will perform the calculation of the standard deviation of the estimated parameters."
   ]
  },
  {
   "cell_type": "code",
   "execution_count": 20,
   "metadata": {},
   "outputs": [
    {
     "name": "stdout",
     "output_type": "stream",
     "text": [
      "[[ 3.39704515e-01  1.40632278e+00  1.12639088e+00  2.23445341e+01\n",
      "   2.20502385e-02]\n",
      " [ 6.77058977e-01  2.79712811e+00  2.18753822e+00  4.90330573e+01\n",
      "   2.82538193e+00]\n",
      " [-1.98730035e-04  0.00000000e+00 -1.86702031e-02 -1.67796235e+00\n",
      "  -1.01615668e+00]\n",
      " [ 2.11719269e+00  5.65692942e-01  1.20512015e+01  1.00689308e+01\n",
      "   3.52095005e-01]\n",
      " [ 3.34548752e+00  5.06559681e-01  2.16206455e+01  8.75042282e+00\n",
      "  -2.48903334e-01]\n",
      " [ 2.41606194e+00  3.09161833e-02  1.90385372e+01 -8.89600654e-02\n",
      "  -8.37218465e-01]]\n"
     ]
    }
   ],
   "source": [
    "ro = ro_SMM_2\n",
    "mu = mu_SMM_2\n",
    "sigma = sigma_SMM_2\n",
    "alpha = alpha_SMM_2\n",
    "beta = 0.99\n",
    "draws = uniform_mat\n",
    "params1 = np.array([ro, mu, sigma, alpha, beta])\n",
    "params2 = (draws, Ct, Kt, Wt, Rt, Yt)\n",
    "simple = False\n",
    "mat2=Jacobian_err(params1, params2, simple)\n",
    "print(mat2)"
   ]
  },
  {
   "cell_type": "code",
   "execution_count": 21,
   "metadata": {},
   "outputs": [],
   "source": [
    "der_err2 = Jacobian_err(params1, params2, simple)\n",
    "W_hat=W_h2s\n",
    "#print(der_err.shape)\n",
    "Var_est = (1/S)*lin.inv(der_err2.T@W_hat@der_err2)\n",
    "ro_hat_sd = Var_est[0,0]\n",
    "mu_hat_sd = Var_est[1,1]\n",
    "sigma_hat_sd = Var_est[2,2]\n",
    "alpha_hat_sd = Var_est[3,3]"
   ]
  },
  {
   "cell_type": "code",
   "execution_count": 22,
   "metadata": {},
   "outputs": [
    {
     "name": "stdout",
     "output_type": "stream",
     "text": [
      "7.864106301694697e-06 0.0227853750426135 6.753483082376812e-08 9.149488758427786e-05\n"
     ]
    }
   ],
   "source": [
    "print(ro_hat_sd, mu_hat_sd, sigma_hat_sd, alpha_hat_sd)"
   ]
  },
  {
   "cell_type": "markdown",
   "metadata": {},
   "source": [
    "In this case, as it was explained in the SMM Notebook, the standard deviation of the estimated parameters is significantly lower. The results are the following:\n",
    "\n",
    "$\\hat{\\rho}_{SD}$ = 7.86411e-06\n",
    "\n",
    "$\\hat{\\mu}_{SD}$ = 0.02279\n",
    "\n",
    "$\\hat{\\sigma}_{SD}$ = 6.75348\n",
    "\n",
    "$\\hat{\\alpha}_{SD}$ = 9.14949"
   ]
  },
  {
   "cell_type": "code",
   "execution_count": null,
   "metadata": {},
   "outputs": [],
   "source": []
  }
 ],
 "metadata": {
  "kernelspec": {
   "display_name": "Python 3",
   "language": "python",
   "name": "python3"
  },
  "language_info": {
   "codemirror_mode": {
    "name": "ipython",
    "version": 3
   },
   "file_extension": ".py",
   "mimetype": "text/x-python",
   "name": "python",
   "nbconvert_exporter": "python",
   "pygments_lexer": "ipython3",
   "version": "3.7.1"
  }
 },
 "nbformat": 4,
 "nbformat_minor": 2
}
