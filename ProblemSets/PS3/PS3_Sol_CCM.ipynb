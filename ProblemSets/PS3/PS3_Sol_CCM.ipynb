{
 "cells": [
  {
   "cell_type": "code",
   "execution_count": 2,
   "metadata": {},
   "outputs": [],
   "source": [
    "import numpy as np\n",
    "import scipy.stats as sts\n",
    "import scipy.optimize as opt\n",
    "import scipy.integrate as integrate\n",
    "import matplotlib.mlab as mlab\n",
    "import matplotlib.pyplot as plt\n",
    "import pylab as pl\n",
    "import seaborn as sns\n",
    "import pandas as pd\n",
    "from pandas import DataFrame, Series\n",
    "import heapq\n",
    "import os\n",
    "import csv\n",
    "import re\n",
    "import math as math"
   ]
  },
  {
   "cell_type": "markdown",
   "metadata": {},
   "source": [
    "## Question 1\n",
    "\n",
    "### Part (a)"
   ]
  },
  {
   "cell_type": "code",
   "execution_count": 163,
   "metadata": {},
   "outputs": [],
   "source": [
    "os.getcwd()\n",
    "os.path.exists(\"data\")\n",
    "filestream = open(\"data/usincmoms.txt\", \"r\")\n",
    "lista = list(csv.reader(filestream, delimiter='\\t'))"
   ]
  },
  {
   "cell_type": "code",
   "execution_count": 164,
   "metadata": {},
   "outputs": [],
   "source": [
    "values = [row[0] for row in lista]\n",
    "bin = [row[1] for row in lista]\n",
    "bin = [float(x) for x in bin]\n",
    "values = [float(x) for x in values]\n",
    "values2 = [float(x) for x in values]\n",
    "factor = 1000\n",
    "newbin = [x / factor for x in bin]\n",
    "newbin2 = [x / factor for x in bin]"
   ]
  },
  {
   "cell_type": "code",
   "execution_count": 165,
   "metadata": {},
   "outputs": [],
   "source": [
    "i = 197.5\n",
    "newbin2.pop(41)\n",
    "newbin2.pop(40)\n",
    "\n",
    "while i < 345:\n",
    "    newbin2.append(i+5)\n",
    "    i+=5"
   ]
  },
  {
   "cell_type": "code",
   "execution_count": 166,
   "metadata": {},
   "outputs": [],
   "source": [
    "top2 = values[40]/10\n",
    "top1 = values[41]/20\n",
    "#print(top1, top2)\n",
    "del values2[40:]\n",
    "\n",
    "i = 40\n",
    "while i<70:\n",
    "    if i<50:\n",
    "        values2.append(top2)\n",
    "    else:\n",
    "        values2.append(top1)\n",
    "    i+=1"
   ]
  },
  {
   "cell_type": "code",
   "execution_count": 167,
   "metadata": {},
   "outputs": [
    {
     "data": {
      "image/png": "[encoded data removed]",
      "text/plain": [
       "<Figure size 1080x432 with 1 Axes>"
      ]
     },
     "metadata": {
      "needs_background": "light"
     },
     "output_type": "display_data"
    }
   ],
   "source": [
    "values2 = np.asarray(values2)\n",
    "\n",
    "fig_size = [0]*2\n",
    "fig_size[0] = 15\n",
    "fig_size[1] = 6\n",
    "plt.rcParams[\"figure.figsize\"] = fig_size\n",
    "plt.bar(newbin2, values2, width = 5, color = 'dodgerblue', edgecolor = '#000000', linewidth = 0.5, label = 'Data')\n",
    "plt.show()"
   ]
  },
  {
   "cell_type": "markdown",
   "metadata": {},
   "source": [
    "### Part (b)"
   ]
  },
  {
   "cell_type": "code",
   "execution_count": 168,
   "metadata": {},
   "outputs": [],
   "source": [
    "data_mean = newbin2 @ values2.T\n",
    "var = []\n",
    "i = 0\n",
    "while i<70:\n",
    "    var.append(values2[i]*(newbin2[i]-data_mean)**2)\n",
    "    i+=1\n",
    "var = np.asarray(var)\n",
    "data_var = var.sum()"
   ]
  },
  {
   "cell_type": "code",
   "execution_count": 169,
   "metadata": {},
   "outputs": [],
   "source": [
    "def log_norm_pdf(x, mu, sigma, cut_lb, cut_ub):\n",
    "\n",
    "    if cut_ub == 'None' and cut_lb == 'None':\n",
    "        prob_notcut = 1.0\n",
    "    elif cut_ub == 'None' and cut_lb != 'None':\n",
    "        prob_notcut = 1.0 - sts.lognorm.cdf(cut_lb, s=sigma, loc=mu)\n",
    "    elif cut_ub != 'None' and cut_lb == 'None':\n",
    "        prob_notcut = sts.lognorm.cdf(cut_ub, s=sigma, loc=mu)\n",
    "    elif cut_ub != 'None' and cut_lb != 'None':\n",
    "        prob_notcut = (sts.lognorm.cdf(cut_ub, s=sigma, loc=mu) - sts.lognorm.cdf(cut_lb, s=sigma, loc=mu))\n",
    "\n",
    "#    pdf_val = sts.lognorm.pdf(x, s=sigma, loc=mu)\n",
    "        \n",
    "    pdf_val = (1/(x*sigma*np.sqrt(2*np.pi)))*np.exp((-(np.log(x)-mu)**2)/(2*(sigma**2)))/prob_notcut   \n",
    "    \n",
    "    return pdf_val"
   ]
  },
  {
   "cell_type": "code",
   "execution_count": 170,
   "metadata": {},
   "outputs": [],
   "source": [
    "def data_moments2(percent):\n",
    "    data_moms = percent\n",
    "    data_moms = np.asarray(data_moms)\n",
    "\n",
    "    return data_moms\n",
    "\n",
    "\n",
    "def model_moments2(income, mu, sigma, cut_lb, cut_ub):\n",
    "    i=0\n",
    "    model_moms = []\n",
    "    while i < len(income):\n",
    "        if i < 40:\n",
    "            mom, err = integrate.quad(lambda x: log_norm_pdf(x, mu, sigma,cut_lb, cut_ub), income[i]-2.5+1e-8, income[i]+2.5)\n",
    "            model_moms.append(mom)\n",
    "            i+=1\n",
    "        elif i == 40:\n",
    "            mom, err = integrate.quad(lambda x: log_norm_pdf(x, mu, sigma,cut_lb, cut_ub), income[i]-25, income[i]+25)\n",
    "            model_moms.append(mom)\n",
    "            i+=1\n",
    "        else:\n",
    "            mom, err = integrate.quad(lambda x: log_norm_pdf(x, mu, sigma,cut_lb, cut_ub), income[i]-50, income[i]+50)\n",
    "            model_moms.append(mom)\n",
    "            i+=1\n",
    "    \n",
    "    model_moms = np.asarray(model_moms)\n",
    "\n",
    "    return model_moms\n",
    "\n",
    "\n",
    "def err_vec2(income, percent, mu, sigma, cut_lb, cut_ub, simple):\n",
    "    moms_data = data_moments2(percent)\n",
    "    moms_model = model_moments2(income, mu, sigma, cut_lb, cut_ub)\n",
    "    if simple:\n",
    "        err_vec = moms_model - moms_data\n",
    "    else:\n",
    "        err_vec = (moms_model - moms_data) / moms_data\n",
    "\n",
    "    return err_vec"
   ]
  },
  {
   "cell_type": "code",
   "execution_count": 171,
   "metadata": {},
   "outputs": [],
   "source": [
    "def matrix_W(income):\n",
    "    i=0\n",
    "    matrix = np.zeros((len(income), len(income)))\n",
    "    while i < len(income):\n",
    "        matrix[i,i]=income[i]\n",
    "        i+=1\n",
    "    return matrix"
   ]
  },
  {
   "cell_type": "code",
   "execution_count": 172,
   "metadata": {},
   "outputs": [],
   "source": [
    "def criterion(params, *args):\n",
    "    mu, sigma = params\n",
    "    income, percent, cut_lb, cut_ub, W = args\n",
    "    err = err_vec2(income, percent, mu, sigma, cut_lb, cut_ub, simple=True)\n",
    "    crit_val = err.T @ W @ err\n",
    "    \n",
    "    return crit_val"
   ]
  },
  {
   "cell_type": "code",
   "execution_count": 173,
   "metadata": {},
   "outputs": [
    {
     "name": "stdout",
     "output_type": "stream",
     "text": [
      "mu_GMM1= 3.9241897066275433  sig_GMM1= 0.9807296475426739\n",
      "      fun: 3.807256741656044e-05\n",
      " hess_inv: <2x2 LbfgsInvHessProduct with dtype=float64>\n",
      "      jac: array([-6.32954152e-05, -9.41024033e-05])\n",
      "  message: b'CONVERGENCE: REL_REDUCTION_OF_F_<=_FACTR*EPSMCH'\n",
      "     nfev: 24\n",
      "      nit: 7\n",
      "   status: 0\n",
      "  success: True\n",
      "        x: array([3.92418971, 0.98072965])\n"
     ]
    }
   ],
   "source": [
    "mu_init = np.log(data_mean)\n",
    "sig_init = 0.2\n",
    "params_init = np.array([mu_init, sig_init])\n",
    "W_hat = matrix_W(values)\n",
    "gmm_args = (newbin, values, 0, 350.0, W_hat)\n",
    "results = opt.minimize(criterion, params_init, args=(gmm_args), method='L-BFGS-B', bounds=((1e-10, None), (1e-10, None)), tol = 1e-5)\n",
    "mu_GMM1, sig_GMM1 = results.x\n",
    "print('mu_GMM1=', mu_GMM1, ' sig_GMM1=', sig_GMM1)\n",
    "print(results)"
   ]
  },
  {
   "cell_type": "code",
   "execution_count": 174,
   "metadata": {},
   "outputs": [
    {
     "data": {
      "image/png": "[encoded data removed]",
      "text/plain": [
       "<Figure size 1080x432 with 1 Axes>"
      ]
     },
     "metadata": {
      "needs_background": "light"
     },
     "output_type": "display_data"
    }
   ],
   "source": [
    "fig_size = [0]*2\n",
    "fig_size[0] = 15\n",
    "fig_size[1] = 6\n",
    "plt.rcParams[\"figure.figsize\"] = fig_size\n",
    "plt.bar(newbin2, values2, width = 5, color = 'dodgerblue', edgecolor = '#000000', linewidth = 0.5, label='Data')\n",
    "\n",
    "dist_pts = np.linspace(1e-100, 350, 200) \n",
    "pl.plot(dist_pts,log_norm_pdf(dist_pts, mu_GMM1, sig_GMM1, 0, 350), linewidth=2, color='b', label='Log-Normal')\n",
    "plt.legend(loc='upper right')\n",
    "plt.show()"
   ]
  },
  {
   "cell_type": "markdown",
   "metadata": {},
   "source": [
    "### Part (c)"
   ]
  },
  {
   "cell_type": "code",
   "execution_count": 175,
   "metadata": {},
   "outputs": [],
   "source": [
    "def gamma_pdf(x, a, b):\n",
    "    pdf_val = x**(a-1)*np.exp(-x/b)/(math.gamma(a)*(b**a))\n",
    "    return pdf_val"
   ]
  },
  {
   "cell_type": "code",
   "execution_count": 176,
   "metadata": {},
   "outputs": [],
   "source": [
    "def data_moments3(percent):\n",
    "    data_moms = percent\n",
    "    data_moms = np.asarray(data_moms)\n",
    "\n",
    "    return data_moms\n",
    "\n",
    "\n",
    "def model_moments3(income, a, b):\n",
    "    i=0\n",
    "    model_moms = []\n",
    "    while i < len(income):\n",
    "        if i < 40:\n",
    "            mom, err = integrate.quad(lambda x: gamma_pdf(x, a, b), income[i]-2.5+1e-8, income[i]+2.5)\n",
    "            model_moms.append(mom)\n",
    "            i+=1\n",
    "        elif i == 40:\n",
    "            mom, err = integrate.quad(lambda x: gamma_pdf(x, a, b), income[i]-25, income[i]+25)\n",
    "            model_moms.append(mom)\n",
    "            i+=1\n",
    "        else:\n",
    "            mom, err = integrate.quad(lambda x: gamma_pdf(x, a, b), income[i]-50, income[i]+50)\n",
    "            model_moms.append(mom)\n",
    "            i+=1\n",
    "    \n",
    "    model_moms = np.asarray(model_moms)\n",
    "\n",
    "    return model_moms\n",
    "\n",
    "\n",
    "def err_vec3(income, percent, a, b, simple):\n",
    "    moms_data = data_moments3(percent)\n",
    "    moms_model = model_moments3(income, a, b)\n",
    "    if simple:\n",
    "        err_vec = moms_model - moms_data\n",
    "    else:\n",
    "        err_vec = (moms_model - moms_data) / moms_data\n",
    "\n",
    "    return err_vec"
   ]
  },
  {
   "cell_type": "code",
   "execution_count": 177,
   "metadata": {},
   "outputs": [],
   "source": [
    "def criterion3(params, *args):\n",
    "    a, b = params\n",
    "    income, percent, cut_lb, cut_ub, W = args\n",
    "    err = err_vec3(income, percent, a, b, simple=True)\n",
    "    crit_val = err.T @ W @ err\n",
    "    \n",
    "    return crit_val"
   ]
  },
  {
   "cell_type": "code",
   "execution_count": 178,
   "metadata": {},
   "outputs": [
    {
     "name": "stdout",
     "output_type": "stream",
     "text": [
      "a_GMM= 1.3984546953723724  b_GMM= 46.48569563745445\n",
      "      fun: 1.0946992932084281e-05\n",
      " hess_inv: <2x2 LbfgsInvHessProduct with dtype=float64>\n",
      "      jac: array([9.84082878e-10, 1.15196481e-11])\n",
      "  message: b'CONVERGENCE: REL_REDUCTION_OF_F_<=_FACTR*EPSMCH'\n",
      "     nfev: 63\n",
      "      nit: 19\n",
      "   status: 0\n",
      "  success: True\n",
      "        x: array([ 1.3984547 , 46.48569564])\n"
     ]
    }
   ],
   "source": [
    "a_init = 3.0\n",
    "b_init = 20.0\n",
    "params_init = np.array([a_init, b_init])\n",
    "W_hat = matrix_W(values)\n",
    "gmm_args = (newbin, values, 1e-10, 350.0, W_hat)\n",
    "results = opt.minimize(criterion3, params_init, args=(gmm_args), method='L-BFGS-B', bounds=((1e-10, None), (1e-10, None)), tol = 1e-10)\n",
    "a_GMM, b_GMM = results.x\n",
    "print('a_GMM=', a_GMM, ' b_GMM=', b_GMM)\n",
    "print(results)"
   ]
  },
  {
   "cell_type": "code",
   "execution_count": 179,
   "metadata": {
    "scrolled": false
   },
   "outputs": [
    {
     "data": {
      "image/png": "[encoded data removed]",
      "text/plain": [
       "<Figure size 1080x432 with 1 Axes>"
      ]
     },
     "metadata": {
      "needs_background": "light"
     },
     "output_type": "display_data"
    }
   ],
   "source": [
    "fig_size = [0]*2\n",
    "fig_size[0] = 15\n",
    "fig_size[1] = 6\n",
    "plt.rcParams[\"figure.figsize\"] = fig_size\n",
    "plt.bar(newbin2, values2, width = 5, color = 'dodgerblue', edgecolor = '#000000', linewidth = 0.5, label='Data')\n",
    "\n",
    "dist_pts = np.linspace(1e-10, 350, 200) \n",
    "pl.plot(dist_pts,gamma_pdf(dist_pts, a_GMM, b_GMM), linewidth=2, color='r', label='Gamma (GA)')\n",
    "plt.legend(loc='upper right')\n",
    "plt.show()"
   ]
  },
  {
   "cell_type": "code",
   "execution_count": 180,
   "metadata": {
    "scrolled": false
   },
   "outputs": [
    {
     "data": {
      "image/png": "[encoded data removed]",
      "text/plain": [
       "<Figure size 1080x432 with 1 Axes>"
      ]
     },
     "metadata": {
      "needs_background": "light"
     },
     "output_type": "display_data"
    }
   ],
   "source": [
    "fig_size = [0]*2\n",
    "fig_size[0] = 15\n",
    "fig_size[1] = 6\n",
    "plt.rcParams[\"figure.figsize\"] = fig_size\n",
    "plt.bar(newbin2, values2, width = 5, color = 'dodgerblue', edgecolor = '#000000', linewidth = 0.5, label='Data')\n",
    "\n",
    "dist_pts = np.linspace(1e-10, 350, 200) \n",
    "pl.plot(dist_pts,gamma_pdf(dist_pts, a_GMM, b_GMM), linewidth=2, color='r', label='Gamma (GA)')\n",
    "\n",
    "pl.plot(dist_pts,log_norm_pdf(dist_pts, mu_GMM1, sig_GMM1, 1e-10, 350), linewidth=2, color='b', label='Log-Normal')\n",
    "plt.legend(loc='upper right')\n",
    "plt.show()"
   ]
  },
  {
   "cell_type": "markdown",
   "metadata": {},
   "source": [
    "# Comparison between log-normal and Gamma (GA)\n",
    "\n",
    "In this exercise, the criterion function takes the following values after the minimization process:\n",
    "\n",
    "Log-Normal criterion value = 3.81e-05\n",
    "\n",
    "Gamma (GA) criterion value = 1.10e-05\n",
    "\n",
    "the criterion function for the Gamma is lower than that of the Log-Normal, then the former is a better estimator for the phenomena.\n"
   ]
  },
  {
   "cell_type": "markdown",
   "metadata": {},
   "source": [
    "# Question 2"
   ]
  },
  {
   "cell_type": "code",
   "execution_count": 3,
   "metadata": {},
   "outputs": [],
   "source": [
    "os.getcwd()\n",
    "os.path.exists(\"data\")\n",
    "filestream2 = open(\"data/MacroSeries.txt\", \"r\")\n",
    "\n",
    "ct=[]\n",
    "kt=[]\n",
    "wt=[]\n",
    "rt=[]\n",
    "\n",
    "for line in filestream2:\n",
    "    c, k, w, r = map(float,line.split(','))\n",
    "    ct.append(c)\n",
    "    kt.append(k)\n",
    "    wt.append(w)\n",
    "    rt.append(r)\n",
    "\n",
    "Ct=np.asarray(ct)\n",
    "Kt=np.asarray(kt)\n",
    "Wt=np.asarray(wt)\n",
    "Rt=np.asarray(rt)"
   ]
  },
  {
   "cell_type": "code",
   "execution_count": 4,
   "metadata": {},
   "outputs": [],
   "source": [
    "def eq4(r, k, a):\n",
    "    value_z4_est = np.log(r/(a*(k**(a-1))))\n",
    "    return value_z4_est"
   ]
  },
  {
   "cell_type": "code",
   "execution_count": 5,
   "metadata": {},
   "outputs": [],
   "source": [
    "def moment_1(z_vec, rho, mu):\n",
    "    i=0\n",
    "    mom1=[]\n",
    "    while i<len(z_vec)-2:\n",
    "        mom1.append(z_vec[i+1]-rho*z_vec[i]-(1-rho)*mu)\n",
    "        i+=1\n",
    "    mom1 = np.asarray(mom1)\n",
    "    exp_value_1 = np.mean(mom1)\n",
    "    \n",
    "    return exp_value_1\n",
    "\n",
    "def moment_2(z_vec, rho, mu):\n",
    "    i=0\n",
    "    mom2=[]\n",
    "    while i<len(z_vec)-2:\n",
    "        mom2.append((z_vec[i+1]-rho*z_vec[i]-(1-rho)*mu)*z_vec[i])\n",
    "        i+=1\n",
    "    mom2 = np.asarray(mom2)\n",
    "    exp_value_2 = np.mean(mom2)\n",
    "    \n",
    "    return exp_value_2\n",
    "\n",
    "def moment_3(z_vec, k_vec, c_vec, alpha, beta):\n",
    "    i=0\n",
    "    mom3=[]\n",
    "    while i<len(z_vec)-2:\n",
    "        mom3.append(beta*alpha*np.exp(z_vec[i+1]*k_vec[i+1]**(alpha-1)*c_vec[i]/c_vec[i+1]-1)) \n",
    "        i+=1\n",
    "    mom3 = np.asarray(mom3)\n",
    "    exp_value_3 = np.mean(mom3)\n",
    "    \n",
    "    return exp_value_3\n",
    "    \n",
    "def moment_4(z_vec, k_vec, c_vec, w_vec, alpha, beta):\n",
    "    i=0\n",
    "    mom4=[]\n",
    "    while i<len(z_vec)-2:\n",
    "        mom4.append((beta*alpha*np.exp(z_vec[i+1]*k_vec[i+1]**(alpha-1)*c_vec[i]/c_vec[i+1]-1))*w_vec[i]) \n",
    "        i+=1\n",
    "    mom4 = np.asarray(mom4)\n",
    "    exp_value_4 = np.mean(mom4)\n",
    "    \n",
    "    return exp_value_4\n"
   ]
  },
  {
   "cell_type": "code",
   "execution_count": 6,
   "metadata": {},
   "outputs": [],
   "source": [
    "def err_vec_p2(z_vec, k_vec, c_vec, w_vec, alpha, beta, rho, mu, simple):\n",
    "    moms_data = np.array([moment_1(z_vec, rho, mu), moment_2(z_vec, rho, mu), moment_3(z_vec, k_vec, c_vec, alpha, beta), moment_4(z_vec, k_vec, c_vec, w_vec, alpha, beta)])\n",
    "    moms_model = np.array([0.0, 0.0, 0.0, 0.0])\n",
    "    if simple:\n",
    "        err_vec_p2 = moms_model - moms_data\n",
    "    else:\n",
    "        err_vec_p2 = (moms_model - moms_data) / moms_data\n",
    "\n",
    "    return err_vec_p2"
   ]
  },
  {
   "cell_type": "code",
   "execution_count": 7,
   "metadata": {},
   "outputs": [],
   "source": [
    "beta_fix = 0.99"
   ]
  },
  {
   "cell_type": "code",
   "execution_count": 8,
   "metadata": {},
   "outputs": [],
   "source": [
    "def criterion_p2(params, *args):\n",
    "    z_vec, k_vec, c_vec, w_vec, W = args\n",
    "    alpha, rho, mu = params\n",
    "    beta =beta_fix\n",
    "    err = err_vec_p2(z_vec, k_vec, c_vec, w_vec, alpha, beta, rho, mu, simple=True)\n",
    "    crit_val = err.T @ W @ err\n",
    "    \n",
    "    return crit_val"
   ]
  },
  {
   "cell_type": "code",
   "execution_count": 16,
   "metadata": {},
   "outputs": [
    {
     "name": "stdout",
     "output_type": "stream",
     "text": [
      "      fun: 1.3569748163754618e-05\n",
      " hess_inv: <3x3 LbfgsInvHessProduct with dtype=float64>\n",
      "      jac: array([ 1.45933197e+05, -5.31772091e-01, -1.93123512e-11])\n",
      "  message: b'CONVERGENCE: NORM_OF_PROJECTED_GRADIENT_<=_PGTOL'\n",
      "     nfev: 76\n",
      "      nit: 4\n",
      "   status: 0\n",
      "  success: True\n",
      "        x: array([1.00000000e-10, 1.00000000e+00, 1.21644794e-01])\n"
     ]
    }
   ],
   "source": [
    "alpha_in = 0.5\n",
    "beta_in = beta_fix\n",
    "rho_in = 0\n",
    "mu_in = 0.1\n",
    "Zt=eq4(Rt, Kt, alpha_in)\n",
    "W_in = np.eye(4)\n",
    "params_init = np.array([alpha_in, rho_in, mu_in])\n",
    "gmm_args = (Zt, Kt, Ct, Wt, W_in)\n",
    "#a=criterion_p2(params_init, gmm_args)\n",
    "#print(a)\n",
    "results = opt.minimize(criterion_p2, params_init, args=(gmm_args), method='L-BFGS-B', bounds=((1e-10, 1-1e-10), (-1+1e-10, 1-1e-10), (1e-10, None)))\n",
    "alpha_opt, rho_opt, mu_opt = results.x\n",
    "#print(alpha_opt, ro_opt, mu_opt)\n",
    "print(results)"
   ]
  },
  {
   "cell_type": "markdown",
   "metadata": {},
   "source": [
    "### Results:\n",
    "\n",
    "$\\widehat{\\alpha}$ = 1.00000000e-10\n",
    "\n",
    "$\\widehat{\\beta}$ = 0.99\n",
    "\n",
    "$\\widehat{\\rho}$ = 1.00000000e+00\n",
    "\n",
    "$\\widehat{\\mu}$ = 1.21655794e-01"
   ]
  }
 ],
 "metadata": {
  "kernelspec": {
   "display_name": "Python 3",
   "language": "python",
   "name": "python3"
  },
  "language_info": {
   "codemirror_mode": {
    "name": "ipython",
    "version": 3
   },
   "file_extension": ".py",
   "mimetype": "text/x-python",
   "name": "python",
   "nbconvert_exporter": "python",
   "pygments_lexer": "ipython3",
   "version": "3.7.1"
  }
 },
 "nbformat": 4,
 "nbformat_minor": 2
}
